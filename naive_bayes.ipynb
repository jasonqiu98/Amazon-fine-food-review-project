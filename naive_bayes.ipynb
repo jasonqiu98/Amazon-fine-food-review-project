{
 "cells": [
  {
   "cell_type": "code",
   "execution_count": 1,
   "metadata": {},
   "outputs": [],
   "source": [
    "# Run this every time you open the spreadsheet\n",
    "%load_ext autoreload\n",
    "%autoreload 2\n",
    "from collections import Counter\n",
    "import lib\n",
    "import random"
   ]
  },
  {
   "cell_type": "markdown",
   "metadata": {},
   "source": [
    "# Load and inspect the data"
   ]
  },
  {
   "cell_type": "code",
   "execution_count": 2,
   "metadata": {},
   "outputs": [],
   "source": [
    "# Load the data.\n",
    "# This function returns reviews and test_reviews, both lists of reviews\n",
    "reviews, test_reviews = lib.read_data()"
   ]
  },
  {
   "cell_type": "markdown",
   "metadata": {},
   "source": [
    "# Train a Naive Bayes classifier"
   ]
  },
  {
   "cell_type": "code",
   "execution_count": 3,
   "metadata": {},
   "outputs": [],
   "source": [
    "prob_positive, token_probs_positive = lib.calc_probs(reviews, \"positive\")\n",
    "prob_negative, token_probs_negative = lib.calc_probs(reviews, \"negative\")"
   ]
  },
  {
   "cell_type": "markdown",
   "metadata": {},
   "source": [
    "### Most discriminative words"
   ]
  },
  {
   "cell_type": "code",
   "execution_count": 4,
   "metadata": {},
   "outputs": [
    {
     "name": "stdout",
     "output_type": "stream",
     "text": [
      "MOST DISCRIMINATIVE TOKEN: \n",
      "\n",
      "TOKEN                P(positive|token)\n",
      "pleaser.             1.0000\n",
      "excellant.           1.0000\n",
      "bacterium.           1.0000\n",
      "sync.                1.0000\n",
      "dependence.          1.0000\n",
      "b.f.f.               1.0000\n",
      "hitch.               1.0000\n",
      "chang's.             1.0000\n",
      "antioxidents.        1.0000\n",
      "stingers.            1.0000\n",
      "\n",
      "TOKEN                P(negative|token)\n",
      "nonreturnable.       1.0000\n",
      "3-stars.             1.0000\n",
      "inexcusable.         1.0000\n",
      "crone's.             1.0000\n",
      "martek.              1.0000\n",
      "2-stars.             1.0000\n",
      "spiritually.         1.0000\n",
      "uninspiring.         1.0000\n",
      "thirstier.           1.0000\n",
      "unemployment.        1.0000\n",
      "\n"
     ]
    }
   ],
   "source": [
    "# For each sentiment c, print out the tokens that maximize P(c|token)\n",
    "\n",
    "prior_probs = {'positive': prob_positive, 'negative': prob_negative}\n",
    "token_probs = {'positive': token_probs_positive, 'negative': token_probs_negative}\n",
    "\n",
    "lib.most_discriminative(reviews, token_probs, prior_probs)"
   ]
  },
  {
   "cell_type": "markdown",
   "metadata": {},
   "source": [
    "# Test the Naive Bayes classifier"
   ]
  },
  {
   "cell_type": "markdown",
   "metadata": {},
   "source": [
    "### Prediction Results"
   ]
  },
  {
   "cell_type": "code",
   "execution_count": 5,
   "metadata": {},
   "outputs": [],
   "source": [
    "# Generate a list of (review, prediction) pairs\n",
    "predictions = [(review, lib.classify_nb(review, prior_probs, token_probs)) for review in test_reviews]"
   ]
  },
  {
   "cell_type": "code",
   "execution_count": 6,
   "metadata": {
    "scrolled": true
   },
   "outputs": [
    {
     "data": {
      "text/html": [
       "<style  type=\"text/css\" >\n",
       "    #T_5b1edf66_697d_11e9_8084_9801a7a832ddrow0_col0 {\n",
       "            color:  black;\n",
       "            text-align:  left;\n",
       "        }    #T_5b1edf66_697d_11e9_8084_9801a7a832ddrow0_col1 {\n",
       "            color:  red;\n",
       "            text-align:  left;\n",
       "        }    #T_5b1edf66_697d_11e9_8084_9801a7a832ddrow0_col2 {\n",
       "            color:  red;\n",
       "            text-align:  left;\n",
       "        }    #T_5b1edf66_697d_11e9_8084_9801a7a832ddrow1_col0 {\n",
       "            color:  black;\n",
       "            text-align:  left;\n",
       "        }    #T_5b1edf66_697d_11e9_8084_9801a7a832ddrow1_col1 {\n",
       "            color:  red;\n",
       "            text-align:  left;\n",
       "        }    #T_5b1edf66_697d_11e9_8084_9801a7a832ddrow1_col2 {\n",
       "            color:  red;\n",
       "            text-align:  left;\n",
       "        }    #T_5b1edf66_697d_11e9_8084_9801a7a832ddrow2_col0 {\n",
       "            color:  black;\n",
       "            text-align:  left;\n",
       "        }    #T_5b1edf66_697d_11e9_8084_9801a7a832ddrow2_col1 {\n",
       "            color:  red;\n",
       "            text-align:  left;\n",
       "        }    #T_5b1edf66_697d_11e9_8084_9801a7a832ddrow2_col2 {\n",
       "            color:  red;\n",
       "            text-align:  left;\n",
       "        }    #T_5b1edf66_697d_11e9_8084_9801a7a832ddrow3_col0 {\n",
       "            color:  black;\n",
       "            text-align:  left;\n",
       "        }    #T_5b1edf66_697d_11e9_8084_9801a7a832ddrow3_col1 {\n",
       "            color:  red;\n",
       "            text-align:  left;\n",
       "        }    #T_5b1edf66_697d_11e9_8084_9801a7a832ddrow3_col2 {\n",
       "            color:  red;\n",
       "            text-align:  left;\n",
       "        }    #T_5b1edf66_697d_11e9_8084_9801a7a832ddrow4_col0 {\n",
       "            color:  black;\n",
       "            text-align:  left;\n",
       "        }    #T_5b1edf66_697d_11e9_8084_9801a7a832ddrow4_col1 {\n",
       "            color:  red;\n",
       "            text-align:  left;\n",
       "        }    #T_5b1edf66_697d_11e9_8084_9801a7a832ddrow4_col2 {\n",
       "            color:  red;\n",
       "            text-align:  left;\n",
       "        }</style>  \n",
       "<table id=\"T_5b1edf66_697d_11e9_8084_9801a7a832dd\" > \n",
       "<thead>    <tr> \n",
       "        <th class=\"blank level0\" ></th> \n",
       "        <th class=\"col_heading level0 col0\" >Content</th> \n",
       "        <th class=\"col_heading level0 col1\" >True sentiment</th> \n",
       "        <th class=\"col_heading level0 col2\" >Predicted sentiment</th> \n",
       "    </tr></thead> \n",
       "<tbody>    <tr> \n",
       "        <th id=\"T_5b1edf66_697d_11e9_8084_9801a7a832ddlevel0_row0\" class=\"row_heading level0 row0\" >0</th> \n",
       "        <td id=\"T_5b1edf66_697d_11e9_8084_9801a7a832ddrow0_col0\" class=\"data row0 col0\" >it took me a while to find treats that my cats would eat . these go beyond that for my cats . they actually demand them . i give them several treats in the morning and again in the evening . they keep count , and if they are shorted one or two , they follow me around the house until the issue is resolved . it is nice that they are good dental treats as well ( good checkups at the vet -- maybe these are the reason ) . i switch up the flavors from time to time , all of which they love . i highly recommend them to anyone wanting to treat their pet to a little something .</td> \n",
       "        <td id=\"T_5b1edf66_697d_11e9_8084_9801a7a832ddrow0_col1\" class=\"data row0 col1\" >positive</td> \n",
       "        <td id=\"T_5b1edf66_697d_11e9_8084_9801a7a832ddrow0_col2\" class=\"data row0 col2\" >positive</td> \n",
       "    </tr>    <tr> \n",
       "        <th id=\"T_5b1edf66_697d_11e9_8084_9801a7a832ddlevel0_row1\" class=\"row_heading level0 row1\" >1</th> \n",
       "        <td id=\"T_5b1edf66_697d_11e9_8084_9801a7a832ddrow1_col0\" class=\"data row1 col0\" >very cute . the dogs loved the taste and humans love the funny dog fortunes . this is made by sojos . i feed my dogs their food which is also great .</td> \n",
       "        <td id=\"T_5b1edf66_697d_11e9_8084_9801a7a832ddrow1_col1\" class=\"data row1 col1\" >positive</td> \n",
       "        <td id=\"T_5b1edf66_697d_11e9_8084_9801a7a832ddrow1_col2\" class=\"data row1 col2\" >positive</td> \n",
       "    </tr>    <tr> \n",
       "        <th id=\"T_5b1edf66_697d_11e9_8084_9801a7a832ddlevel0_row2\" class=\"row_heading level0 row2\" >2</th> \n",
       "        <td id=\"T_5b1edf66_697d_11e9_8084_9801a7a832ddrow2_col0\" class=\"data row2 col0\" >great taffy at a great price . there was a wide assortment of yummy taffy . delivery was very quick . if your a taffy lover , this is a deal .</td> \n",
       "        <td id=\"T_5b1edf66_697d_11e9_8084_9801a7a832ddrow2_col1\" class=\"data row2 col1\" >positive</td> \n",
       "        <td id=\"T_5b1edf66_697d_11e9_8084_9801a7a832ddrow2_col2\" class=\"data row2 col2\" >positive</td> \n",
       "    </tr>    <tr> \n",
       "        <th id=\"T_5b1edf66_697d_11e9_8084_9801a7a832ddlevel0_row3\" class=\"row_heading level0 row3\" >3</th> \n",
       "        <td id=\"T_5b1edf66_697d_11e9_8084_9801a7a832ddrow3_col0\" class=\"data row3 col0\" >my daughter moved in with her cat . some how , we now have 3 cats , that is , she now has 3 cats . the vet gave us some greenies when we took them in for checkups . i was n't sure what they were and the cats did n't seem to like them at first . that is , until they actually tasted them . that changed things . so far , i have tried the oven roasted chicken , ocean fish , tempting tuna and succulent beef on them . the cats love them and my daughter is angry with me for spoiling the cats .</td> \n",
       "        <td id=\"T_5b1edf66_697d_11e9_8084_9801a7a832ddrow3_col1\" class=\"data row3 col1\" >positive</td> \n",
       "        <td id=\"T_5b1edf66_697d_11e9_8084_9801a7a832ddrow3_col2\" class=\"data row3 col2\" >positive</td> \n",
       "    </tr>    <tr> \n",
       "        <th id=\"T_5b1edf66_697d_11e9_8084_9801a7a832ddlevel0_row4\" class=\"row_heading level0 row4\" >4</th> \n",
       "        <td id=\"T_5b1edf66_697d_11e9_8084_9801a7a832ddrow4_col0\" class=\"data row4 col0\" >these candies are flat out delicious ! i 've read all the reviews here and ca n't understand how there could be a 1 star review of this product ! ! just because you personally do n't care for how a product tastes does not lend to a bad review . the fault is your own for purchasing a product do n't even like ! < br / > < br / > as for my review , these candies are awesome ! i personally do n't care for the black raspberry , but i can just give those to my wife ! i 'm really surprised these are n't more expensive as i feel they should be more of a gourmet type candy ! at such a great price for 12 packs , i 'm in candy heaven ! ! < br / > < br / > in fact , i buy 24 at a time to save on shipping to make it even cheaper ! < br / > < br / > if you like raspberry you will love this product . plane and simple .</td> \n",
       "        <td id=\"T_5b1edf66_697d_11e9_8084_9801a7a832ddrow4_col1\" class=\"data row4 col1\" >positive</td> \n",
       "        <td id=\"T_5b1edf66_697d_11e9_8084_9801a7a832ddrow4_col2\" class=\"data row4 col2\" >positive</td> \n",
       "    </tr></tbody> \n",
       "</table> "
      ],
      "text/plain": [
       "<IPython.core.display.HTML object>"
      ]
     },
     "metadata": {},
     "output_type": "display_data"
    }
   ],
   "source": [
    "# Compare true labels and predicted labels in a table\n",
    "lib.show_predictions(predictions)"
   ]
  },
  {
   "cell_type": "markdown",
   "metadata": {},
   "source": [
    "### F1 score"
   ]
  },
  {
   "cell_type": "code",
   "execution_count": 7,
   "metadata": {},
   "outputs": [
    {
     "name": "stdout",
     "output_type": "stream",
     "text": [
      "positive\n",
      "Precision:  97.71392158034132\n",
      "Recall:  87.57317247287264\n",
      "F1:  92.3660457980781\n",
      "\n",
      "negative\n",
      "Precision:  73.86751735785326\n",
      "Recall:  94.48871819491119\n",
      "F1:  82.91521853607162\n",
      "\n",
      "Average F1:  87.64063216707487\n"
     ]
    }
   ],
   "source": [
    "# Get average F1 score for the test set\n",
    "lib.evaluate(predictions)"
   ]
  },
  {
   "cell_type": "code",
   "execution_count": 8,
   "metadata": {},
   "outputs": [
    {
     "name": "stdout",
     "output_type": "stream",
     "text": [
      "positive\n",
      "Precision:  99.92474440630679\n",
      "Recall:  96.95674436207396\n",
      "F1:  98.41837299641374\n",
      "\n",
      "negative\n",
      "Precision:  92.36491996291373\n",
      "Recall:  99.80205190102595\n",
      "F1:  95.9395722018205\n",
      "\n",
      "Average F1:  97.17897259911712\n"
     ]
    }
   ],
   "source": [
    "# Get average F1 score for the TRAINING set.\n",
    "# Compare with average F1 for test set above. What's the reason for the difference?\n",
    "\n",
    "trainset_predictions = [(review, lib.classify_nb(review, prior_probs, token_probs)) for review in reviews] # maps each training tweet to its predicted label\n",
    "lib.evaluate(trainset_predictions)"
   ]
  },
  {
   "cell_type": "markdown",
   "metadata": {},
   "source": [
    "### Confusion matrix"
   ]
  },
  {
   "cell_type": "code",
   "execution_count": 9,
   "metadata": {},
   "outputs": [
    {
     "data": {
      "text/html": [
       "<table border=\"1\" class=\"dataframe\">\n",
       "  <thead>\n",
       "    <tr style=\"text-align: right;\">\n",
       "      <th></th>\n",
       "      <th>positive</th>\n",
       "      <th>negative</th>\n",
       "    </tr>\n",
       "  </thead>\n",
       "  <tbody>\n",
       "    <tr>\n",
       "      <th>positive</th>\n",
       "      <td>49069</td>\n",
       "      <td>6963</td>\n",
       "    </tr>\n",
       "    <tr>\n",
       "      <th>negative</th>\n",
       "      <td>1148</td>\n",
       "      <td>19682</td>\n",
       "    </tr>\n",
       "  </tbody>\n",
       "</table>"
      ],
      "text/plain": [
       "<IPython.core.display.HTML object>"
      ]
     },
     "metadata": {},
     "output_type": "display_data"
    }
   ],
   "source": [
    "lib.show_confusion_matrix(predictions)"
   ]
  },
  {
   "cell_type": "markdown",
   "metadata": {},
   "source": [
    "### Visualizing individual tweets"
   ]
  },
  {
   "cell_type": "code",
   "execution_count": 10,
   "metadata": {},
   "outputs": [
    {
     "data": {
      "text/html": [
       "\n",
       "    <div id=\"viz-overlay\" style=\"display:none;position:absolute;width:250px;height:110px;border: 1px solid #000; padding:8px;  background: #eee;\">\n",
       "\t<p>\n",
       "       <span style=\"color:red;\">P(<span class=\"viz-token-placeholder\"></span> | positive) = <span id=\"viz-p-positive\"></span></span><br>\n",
       "\t   <span style=\"color:green;\">P(<span class=\"viz-token-placeholder\"></span> | negative) = <span id=\"viz-p-negative\"></span><br>      \n",
       "    </p>\n",
       "    </div>\n",
       "\n",
       "    <div id=\"viz-review\" style=\"padding: 190px 0 0;\">\n",
       "    <span style=\"color: red\" class=\"viz-token\" data-positive=\"0.509758\" data-negative=\"0.455172\">my</span> <span style=\"color: red\" class=\"viz-token\" data-positive=\"0.000980\" data-negative=\"0.000869\">preferences</span> <span style=\"color: red\" class=\"viz-token\" data-positive=\"0.536250\" data-negative=\"0.524695\">for</span> <span style=\"color: red\" class=\"viz-token\" data-positive=\"0.018593\" data-negative=\"0.012649\">energy</span> <span style=\"color: green\" class=\"viz-token\" data-positive=\"0.013291\" data-negative=\"0.013361\">drinks</span> <span style=\"color: red\" class=\"viz-token\" data-positive=\"0.614840\" data-negative=\"0.606759\">is</span> <span style=\"color: green\" class=\"viz-token\" data-positive=\"0.811901\" data-negative=\"0.883488\">the</span> <span style=\"color: red\" class=\"viz-token\" data-positive=\"0.042819\" data-negative=\"0.041955\">regular</span> <span style=\"color: red\" class=\"viz-token\" data-positive=\"0.812970\" data-negative=\"0.769065\">and</span> <span style=\"color: green\" class=\"viz-token\" data-positive=\"0.000703\" data-negative=\"0.000712\">lo</span> <span style=\"color: red\" class=\"viz-token\" data-positive=\"0.005272\" data-negative=\"0.004381\">carb</span> <span style=\"color: green\" class=\"viz-token\" data-positive=\"0.000842\" data-negative=\"0.001038\">monster</span> <span style=\"color: green\" class=\"viz-token\" data-positive=\"0.949015\" data-negative=\"0.969463\">.</span> <span style=\"color: green\" class=\"viz-token\" data-positive=\"0.795383\" data-negative=\"0.857888\">i</span> <span style=\"color: green\" class=\"viz-token\" data-positive=\"0.192208\" data-negative=\"0.286409\">do</span> <span style=\"color: green\" class=\"viz-token\" data-positive=\"0.271239\" data-negative=\"0.369559\">like</span> <span style=\"color: green\" class=\"viz-token\" data-positive=\"0.016617\" data-negative=\"0.016729\">red</span> <span style=\"color: red\" class=\"viz-token\" data-positive=\"0.001799\" data-negative=\"0.001678\">bull</span> <span style=\"color: green\" class=\"viz-token\" data-positive=\"0.363031\" data-negative=\"0.560893\">but</span> <span style=\"color: green\" class=\"viz-token\" data-positive=\"0.319789\" data-negative=\"0.321340\">you</span> <span style=\"color: red\" class=\"viz-token\" data-positive=\"0.329794\" data-negative=\"0.320893\">are</span> <span style=\"color: green\" class=\"viz-token\" data-positive=\"0.005031\" data-negative=\"0.009077\">paying</span> <span style=\"color: red\" class=\"viz-token\" data-positive=\"0.536250\" data-negative=\"0.524695\">for</span> <span style=\"color: green\" class=\"viz-token\" data-positive=\"0.811901\" data-negative=\"0.883488\">the</span> <span style=\"color: green\" class=\"viz-token\" data-positive=\"0.010049\" data-negative=\"0.016886\">name</span> <span style=\"color: green\" class=\"viz-token\" data-positive=\"0.949015\" data-negative=\"0.969463\">.</span> <span style=\"color: green\" class=\"viz-token\" data-positive=\"0.629542\" data-negative=\"0.680857\">this</span> <span style=\"color: green\" class=\"viz-token\" data-positive=\"0.137105\" data-negative=\"0.180362\">no</span> <span style=\"color: green\" class=\"viz-token\" data-positive=\"0.001318\" data-negative=\"0.001811\">fear</span> <span style=\"color: green\" class=\"viz-token\" data-positive=\"0.062521\" data-negative=\"0.064647\">drink</span> <span style=\"color: red\" class=\"viz-token\" data-positive=\"0.614840\" data-negative=\"0.606759\">is</span> <span style=\"color: green\" class=\"viz-token\" data-positive=\"0.001002\" data-negative=\"0.001424\">infused</span> <span style=\"color: green\" class=\"viz-token\" data-positive=\"0.383940\" data-negative=\"0.395872\">with</span> <span style=\"color: green\" class=\"viz-token\" data-positive=\"0.002761\" data-negative=\"0.003114\">grape</span> <span style=\"color: green\" class=\"viz-token\" data-positive=\"0.012031\" data-negative=\"0.014146\">juice</span> <span style=\"color: green\" class=\"viz-token\" data-positive=\"0.694112\" data-negative=\"0.777224\">,</span> <span style=\"color: green\" class=\"viz-token\" data-positive=\"0.095959\" data-negative=\"0.139819\">which</span> <span style=\"color: red\" class=\"viz-token\" data-positive=\"0.061720\" data-negative=\"0.040881\">makes</span> <span style=\"color: green\" class=\"viz-token\" data-positive=\"0.642258\" data-negative=\"0.706892\">it</span> <span style=\"color: green\" class=\"viz-token\" data-positive=\"0.671640\" data-negative=\"0.715594\">to</span> <span style=\"color: red\" class=\"viz-token\" data-positive=\"0.065923\" data-negative=\"0.063971\">sweet</span> <span style=\"color: red\" class=\"viz-token\" data-positive=\"0.536250\" data-negative=\"0.524695\">for</span> <span style=\"color: red\" class=\"viz-token\" data-positive=\"0.509758\" data-negative=\"0.455172\">my</span> <span style=\"color: green\" class=\"viz-token\" data-positive=\"0.193504\" data-negative=\"0.281207\">taste</span> <span style=\"color: green\" class=\"viz-token\" data-positive=\"0.004363\" data-negative=\"0.006264\">buds</span> <span style=\"color: green\" class=\"viz-token\" data-positive=\"0.949015\" data-negative=\"0.969463\">.</span> <span style=\"color: green\" class=\"viz-token\" data-positive=\"0.562720\" data-negative=\"0.658105\">of</span> <span style=\"color: red\" class=\"viz-token\" data-positive=\"0.015526\" data-negative=\"0.014387\">course</span> <span style=\"color: green\" class=\"viz-token\" data-positive=\"0.642258\" data-negative=\"0.706892\">it</span> <span style=\"color: red\" class=\"viz-token\" data-positive=\"0.614840\" data-negative=\"0.606759\">is</span> <span style=\"color: red\" class=\"viz-token\" data-positive=\"0.003357\" data-negative=\"0.002849\">loaded</span> <span style=\"color: green\" class=\"viz-token\" data-positive=\"0.383940\" data-negative=\"0.395872\">with</span> <span style=\"color: green\" class=\"viz-token\" data-positive=\"0.000632\" data-negative=\"0.001255\">hfcs</span> <span style=\"color: green\" class=\"viz-token\" data-positive=\"0.949015\" data-negative=\"0.969463\">.</span> <span style=\"color: green\" class=\"viz-token\" data-positive=\"0.188312\" data-negative=\"0.276113\">if</span> <span style=\"color: green\" class=\"viz-token\" data-positive=\"0.319789\" data-negative=\"0.321340\">you</span> <span style=\"color: red\" class=\"viz-token\" data-positive=\"0.329794\" data-negative=\"0.320893\">are</span> <span style=\"color: green\" class=\"viz-token\" data-positive=\"0.736143\" data-negative=\"0.756222\">a</span> <span style=\"color: green\" class=\"viz-token\" data-positive=\"0.008829\" data-negative=\"0.009934\">person</span> <span style=\"color: green\" class=\"viz-token\" data-positive=\"0.381055\" data-negative=\"0.496258\">that</span> <span style=\"color: red\" class=\"viz-token\" data-positive=\"0.019203\" data-negative=\"0.014472\">likes</span> <span style=\"color: green\" class=\"viz-token\" data-positive=\"0.811901\" data-negative=\"0.883488\">the</span> <span style=\"color: green\" class=\"viz-token\" data-positive=\"0.012031\" data-negative=\"0.014146\">juice</span> <span style=\"color: red\" class=\"viz-token\" data-positive=\"0.018593\" data-negative=\"0.012649\">energy</span> <span style=\"color: green\" class=\"viz-token\" data-positive=\"0.013291\" data-negative=\"0.013361\">drinks</span> <span style=\"color: green\" class=\"viz-token\" data-positive=\"0.073457\" data-negative=\"0.098588\">then</span> <span style=\"color: green\" class=\"viz-token\" data-positive=\"0.319789\" data-negative=\"0.321340\">you</span> <span style=\"color: green\" class=\"viz-token\" data-positive=\"0.027921\" data-negative=\"0.055739\">may</span> <span style=\"color: green\" class=\"viz-token\" data-positive=\"0.271239\" data-negative=\"0.369559\">like</span> <span style=\"color: green\" class=\"viz-token\" data-positive=\"0.629542\" data-negative=\"0.680857\">this</span> <span style=\"color: green\" class=\"viz-token\" data-positive=\"0.000739\" data-negative=\"0.001110\">drink.</span> <span style=\"color: green\" class=\"viz-token\" data-positive=\"0.228665\" data-negative=\"0.298974\"><</span> <span style=\"color: green\" class=\"viz-token\" data-positive=\"0.220878\" data-negative=\"0.291141\">br</span> <span style=\"color: green\" class=\"viz-token\" data-positive=\"0.222169\" data-negative=\"0.293156\">/</span> <span style=\"color: green\" class=\"viz-token\" data-positive=\"0.229164\" data-negative=\"0.299831\">></span> <span style=\"color: green\" class=\"viz-token\" data-positive=\"0.228665\" data-negative=\"0.298974\"><</span> <span style=\"color: green\" class=\"viz-token\" data-positive=\"0.220878\" data-negative=\"0.291141\">br</span> <span style=\"color: green\" class=\"viz-token\" data-positive=\"0.222169\" data-negative=\"0.293156\">/</span> <span style=\"color: green\" class=\"viz-token\" data-positive=\"0.229164\" data-negative=\"0.299831\">></span> <span style=\"color: green\" class=\"viz-token\" data-positive=\"0.811901\" data-negative=\"0.883488\">the</span> <span style=\"color: red\" class=\"viz-token\" data-positive=\"0.018593\" data-negative=\"0.012649\">energy</span> <span style=\"color: green\" class=\"viz-token\" data-positive=\"0.062521\" data-negative=\"0.064647\">drink</span> <span style=\"color: green\" class=\"viz-token\" data-positive=\"0.152332\" data-negative=\"0.241629\">had</span> <span style=\"color: green\" class=\"viz-token\" data-positive=\"0.736143\" data-negative=\"0.756222\">a</span> <span style=\"color: green\" class=\"viz-token\" data-positive=\"0.029092\" data-negative=\"0.105794\">bad</span> <span style=\"color: green\" class=\"viz-token\" data-positive=\"0.009653\" data-negative=\"0.027290\">aftertaste</span> <span style=\"color: green\" class=\"viz-token\" data-positive=\"0.694112\" data-negative=\"0.777224\">,</span> <span style=\"color: green\" class=\"viz-token\" data-positive=\"0.095959\" data-negative=\"0.139819\">which</span> <span style=\"color: red\" class=\"viz-token\" data-positive=\"0.614840\" data-negative=\"0.606759\">is</span> <span style=\"color: green\" class=\"viz-token\" data-positive=\"0.811901\" data-negative=\"0.883488\">the</span> <span style=\"color: green\" class=\"viz-token\" data-positive=\"0.011768\" data-negative=\"0.026204\">reason</span> <span style=\"color: green\" class=\"viz-token\" data-positive=\"0.795383\" data-negative=\"0.857888\">i</span> <span style=\"color: green\" class=\"viz-token\" data-positive=\"0.143432\" data-negative=\"0.276463\">would</span> <span style=\"color: green\" class=\"viz-token\" data-positive=\"0.309201\" data-negative=\"0.576210\">not</span> <span style=\"color: red\" class=\"viz-token\" data-positive=\"0.083314\" data-negative=\"0.050682\">recommend</span> <span style=\"color: green\" class=\"viz-token\" data-positive=\"0.642258\" data-negative=\"0.706892\">it</span> <span style=\"color: green\" class=\"viz-token\" data-positive=\"0.671640\" data-negative=\"0.715594\">to</span> <span style=\"color: red\" class=\"viz-token\" data-positive=\"0.021528\" data-negative=\"0.009728\">friends</span> <span style=\"color: green\" class=\"viz-token\" data-positive=\"0.208780\" data-negative=\"0.235751\">or</span> <span style=\"color: red\" class=\"viz-token\" data-positive=\"0.000294\" data-negative=\"0.000193\">family.</span> <span style=\"color: green\" class=\"viz-token\" data-positive=\"0.228665\" data-negative=\"0.298974\"><</span> <span style=\"color: green\" class=\"viz-token\" data-positive=\"0.220878\" data-negative=\"0.291141\">br</span> <span style=\"color: green\" class=\"viz-token\" data-positive=\"0.222169\" data-negative=\"0.293156\">/</span> <span style=\"color: green\" class=\"viz-token\" data-positive=\"0.229164\" data-negative=\"0.299831\">></span> <span style=\"color: green\" class=\"viz-token\" data-positive=\"0.228665\" data-negative=\"0.298974\"><</span> <span style=\"color: green\" class=\"viz-token\" data-positive=\"0.220878\" data-negative=\"0.291141\">br</span> <span style=\"color: green\" class=\"viz-token\" data-positive=\"0.222169\" data-negative=\"0.293156\">/</span> <span style=\"color: green\" class=\"viz-token\" data-positive=\"0.229164\" data-negative=\"0.299831\">></span> <span style=\"color: green\" class=\"viz-token\" data-positive=\"0.795383\" data-negative=\"0.857888\">i</span> <span style=\"color: green\" class=\"viz-token\" data-positive=\"0.019048\" data-negative=\"0.040905\">gave</span> <span style=\"color: green\" class=\"viz-token\" data-positive=\"0.642258\" data-negative=\"0.706892\">it</span> <span style=\"color: green\" class=\"viz-token\" data-positive=\"0.023157\" data-negative=\"0.038383\">three</span> <span style=\"color: green\" class=\"viz-token\" data-positive=\"0.010468\" data-negative=\"0.039312\">stars</span> <span style=\"color: green\" class=\"viz-token\" data-positive=\"0.108435\" data-negative=\"0.159324\">because</span> <span style=\"color: green\" class=\"viz-token\" data-positive=\"0.642258\" data-negative=\"0.706892\">it</span> <span style=\"color: red\" class=\"viz-token\" data-positive=\"0.614840\" data-negative=\"0.606759\">is</span> <span style=\"color: green\" class=\"viz-token\" data-positive=\"0.056346\" data-negative=\"0.091889\">still</span> <span style=\"color: green\" class=\"viz-token\" data-positive=\"0.000565\" data-negative=\"0.004671\">drinkable</span> <span style=\"color: red\" class=\"viz-token\" data-positive=\"0.009230\" data-negative=\"0.006433\">unlike</span> <span style=\"color: red\" class=\"viz-token\" data-positive=\"0.032009\" data-negative=\"0.028920\">full</span> <span style=\"color: red\" class=\"viz-token\" data-positive=\"0.000000\" data-negative=\"0.000000\">throttle.</span> <span style=\"color: green\" class=\"viz-token\" data-positive=\"0.228665\" data-negative=\"0.298974\"><</span> <span style=\"color: green\" class=\"viz-token\" data-positive=\"0.220878\" data-negative=\"0.291141\">br</span> <span style=\"color: green\" class=\"viz-token\" data-positive=\"0.222169\" data-negative=\"0.293156\">/</span> <span style=\"color: green\" class=\"viz-token\" data-positive=\"0.229164\" data-negative=\"0.299831\">></span> <span style=\"color: green\" class=\"viz-token\" data-positive=\"0.228665\" data-negative=\"0.298974\"><</span> <span style=\"color: green\" class=\"viz-token\" data-positive=\"0.220878\" data-negative=\"0.291141\">br</span> <span style=\"color: green\" class=\"viz-token\" data-positive=\"0.222169\" data-negative=\"0.293156\">/</span> <span style=\"color: green\" class=\"viz-token\" data-positive=\"0.229164\" data-negative=\"0.299831\">></span> <span style=\"color: green\" class=\"viz-token\" data-positive=\"0.795383\" data-negative=\"0.857888\">i</span> <span style=\"color: green\" class=\"viz-token\" data-positive=\"0.082593\" data-negative=\"0.190935\">did</span> <span style=\"color: green\" class=\"viz-token\" data-positive=\"0.309201\" data-negative=\"0.576210\">not</span> <span style=\"color: green\" class=\"viz-token\" data-positive=\"0.151183\" data-negative=\"0.172287\">get</span> <span style=\"color: green\" class=\"viz-token\" data-positive=\"0.097803\" data-negative=\"0.116693\">any</span> <span style=\"color: green\" class=\"viz-token\" data-positive=\"0.027209\" data-negative=\"0.045166\">kind</span> <span style=\"color: green\" class=\"viz-token\" data-positive=\"0.562720\" data-negative=\"0.658105\">of</span> <span style=\"color: red\" class=\"viz-token\" data-positive=\"0.018593\" data-negative=\"0.012649\">energy</span> <span style=\"color: red\" class=\"viz-token\" data-positive=\"0.005009\" data-negative=\"0.004466\">boost</span> <span style=\"color: green\" class=\"viz-token\" data-positive=\"0.363031\" data-negative=\"0.560893\">but</span> <span style=\"color: green\" class=\"viz-token\" data-positive=\"0.381055\" data-negative=\"0.496258\">that</span> <span style=\"color: red\" class=\"viz-token\" data-positive=\"0.614840\" data-negative=\"0.606759\">is</span> <span style=\"color: green\" class=\"viz-token\" data-positive=\"0.108435\" data-negative=\"0.159324\">because</span> <span style=\"color: green\" class=\"viz-token\" data-positive=\"0.031519\" data-negative=\"0.044068\">1</span> <span style=\"color: red\" class=\"viz-token\" data-positive=\"0.192573\" data-negative=\"0.190742\">can</span> <span style=\"color: green\" class=\"viz-token\" data-positive=\"0.137105\" data-negative=\"0.180362\">no</span> <span style=\"color: red\" class=\"viz-token\" data-positive=\"0.023331\" data-negative=\"0.020241\">longer</span> <span style=\"color: green\" class=\"viz-token\" data-positive=\"0.092945\" data-negative=\"0.142016\">does</span> <span style=\"color: green\" class=\"viz-token\" data-positive=\"0.127282\" data-negative=\"0.156898\">much</span> <span style=\"color: red\" class=\"viz-token\" data-positive=\"0.536250\" data-negative=\"0.524695\">for</span> <span style=\"color: green\" class=\"viz-token\" data-positive=\"0.160743\" data-negative=\"0.201666\">me</span> <span style=\"color: green\" class=\"viz-token\" data-positive=\"0.949015\" data-negative=\"0.969463\">.</span> <span style=\"color: green\" class=\"viz-token\" data-positive=\"0.400232\" data-negative=\"0.403440\">have</span> <span style=\"color: green\" class=\"viz-token\" data-positive=\"0.629542\" data-negative=\"0.680857\">this</span> <span style=\"color: green\" class=\"viz-token\" data-positive=\"0.095105\" data-negative=\"0.139155\">after</span> <span style=\"color: green\" class=\"viz-token\" data-positive=\"0.736143\" data-negative=\"0.756222\">a</span> <span style=\"color: green\" class=\"viz-token\" data-positive=\"0.026626\" data-negative=\"0.028196\">large</span> <span style=\"color: green\" class=\"viz-token\" data-positive=\"0.128934\" data-negative=\"0.133796\">coffee</span> <span style=\"color: red\" class=\"viz-token\" data-positive=\"0.812970\" data-negative=\"0.769065\">and</span> <span style=\"color: green\" class=\"viz-token\" data-positive=\"0.319789\" data-negative=\"0.321340\">you</span> <span style=\"color: green\" class=\"viz-token\" data-positive=\"0.182017\" data-negative=\"0.205009\">will</span> <span style=\"color: green\" class=\"viz-token\" data-positive=\"0.811901\" data-negative=\"0.883488\">the</span> <span style=\"color: green\" class=\"viz-token\" data-positive=\"0.000788\" data-negative=\"0.001014\">buzz</span> <p><strong>Predicted sentiment: </strong> <span style=\"color: green\"> negative</span><br><strong>True sentiment: </strong> <span style=\"color: green\"> negative</span></p>\n",
       "    </div>\n",
       "     <script type=\"text/javascript\">\n",
       "\t$(document).ready(function() {\n",
       "\t\t$(\"span.viz-token\").mouseover(function() {\n",
       "\t\t\t$(\"span.viz-token\").css({\"font-weight\": \"normal\"});\n",
       "\t\t\t$(this).css({\"font-weight\": \"bold\"});\n",
       "\t\t\t$(\"span.viz-token-placeholder\").text($(this).text());\n",
       "\t\t\t$(\"#viz-p-positive\").text($(this).data(\"positive\"));\n",
       "\t\t\t$(\"#viz-p-negative\").text($(this).data(\"negative\"));\n",
       "\t\t\t$(\"#viz-overlay\").show();\n",
       "\t\t\t$(\"#viz-overlay\").offset({left:$(this).offset().left-110+$(this).width()/2, top:$(this).offset().top - 140});\n",
       "\t\t});\n",
       "\t});\n",
       "    </script>\n",
       "\n",
       "    "
      ],
      "text/plain": [
       "<IPython.core.display.HTML object>"
      ]
     },
     "metadata": {},
     "output_type": "display_data"
    }
   ],
   "source": [
    "random_review = random.choice(list(test_reviews))\n",
    "lib.visualize_review(random_review, prior_probs, token_probs)"
   ]
  }
 ],
 "metadata": {
  "kernelspec": {
   "display_name": "Python 3",
   "language": "python",
   "name": "python3"
  },
  "language_info": {
   "codemirror_mode": {
    "name": "ipython",
    "version": 3
   },
   "file_extension": ".py",
   "mimetype": "text/x-python",
   "name": "python",
   "nbconvert_exporter": "python",
   "pygments_lexer": "ipython3",
   "version": "3.7.2"
  }
 },
 "nbformat": 4,
 "nbformat_minor": 2
}
