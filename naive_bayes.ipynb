{
 "cells": [
  {
   "cell_type": "code",
   "execution_count": 1,
   "metadata": {},
   "outputs": [],
   "source": [
    "# Run this every time you open the spreadsheet\n",
    "%load_ext autoreload\n",
    "%autoreload 2\n",
    "from collections import Counter\n",
    "import lib\n",
    "import random"
   ]
  },
  {
   "cell_type": "markdown",
   "metadata": {},
   "source": [
    "# Load and Inspect the Data"
   ]
  },
  {
   "cell_type": "code",
   "execution_count": 2,
   "metadata": {},
   "outputs": [],
   "source": [
    "# Load the data.\n",
    "# This function returns reviews and test_reviews, both lists of reviews\n",
    "reviews, test_reviews = lib.read_data()"
   ]
  },
  {
   "cell_type": "markdown",
   "metadata": {},
   "source": [
    "# Train a Naive Bayes Classifier"
   ]
  },
  {
   "cell_type": "code",
   "execution_count": 3,
   "metadata": {},
   "outputs": [],
   "source": [
    "prob_positive, token_probs_positive = lib.calc_probs(reviews, \"positive\")\n",
    "prob_negative, token_probs_negative = lib.calc_probs(reviews, \"negative\")"
   ]
  },
  {
   "cell_type": "markdown",
   "metadata": {},
   "source": [
    "### Most discriminative words"
   ]
  },
  {
   "cell_type": "code",
   "execution_count": 4,
   "metadata": {},
   "outputs": [
    {
     "name": "stdout",
     "output_type": "stream",
     "text": [
      "MOST DISCRIMINATIVE TOKEN: \n",
      "\n",
      "TOKEN                P(positive|token)\n",
      "hears                1.0000\n",
      "sc                   1.0000\n",
      "prefect              1.0000\n",
      "antioxidents         1.0000\n",
      "yummm                1.0000\n",
      "mmmmmmm              1.0000\n",
      "winters              1.0000\n",
      "bil                  1.0000\n",
      "dances               1.0000\n",
      "jac                  1.0000\n",
      "\n",
      "TOKEN                P(negative|token)\n",
      "uneatable            0.9999\n",
      "implicated           0.9999\n",
      "refundable           0.9999\n",
      "martek               0.9999\n",
      "unhelpful            0.9998\n",
      "notation             0.9998\n",
      "poorest              0.9998\n",
      "nonreturnable        0.9998\n",
      "tampering            0.9998\n",
      "readable             0.9998\n",
      "\n"
     ]
    }
   ],
   "source": [
    "# For each sentiment c, print out the tokens that maximize P(c|token)\n",
    "\n",
    "prior_probs = {'positive': prob_positive, 'negative': prob_negative}\n",
    "token_probs = {'positive': token_probs_positive, 'negative': token_probs_negative}\n",
    "\n",
    "lib.most_discriminative(reviews, token_probs, prior_probs)"
   ]
  },
  {
   "cell_type": "markdown",
   "metadata": {},
   "source": [
    "# Test the Naive Bayes Classifier"
   ]
  },
  {
   "cell_type": "markdown",
   "metadata": {},
   "source": [
    "### Prediction results"
   ]
  },
  {
   "cell_type": "code",
   "execution_count": 5,
   "metadata": {},
   "outputs": [],
   "source": [
    "# Generate a list of (review, prediction) pairs\n",
    "predictions = [(review, lib.classify_nb(review, prior_probs, token_probs)) for review in test_reviews]"
   ]
  },
  {
   "cell_type": "code",
   "execution_count": 6,
   "metadata": {
    "scrolled": true
   },
   "outputs": [
    {
     "data": {
      "text/html": [
       "<style  type=\"text/css\" >\n",
       "    #T_20a1dfa6_6b5c_11e9_8f0f_9801a7a832ddrow0_col0 {\n",
       "            color:  black;\n",
       "            text-align:  left;\n",
       "        }    #T_20a1dfa6_6b5c_11e9_8f0f_9801a7a832ddrow0_col1 {\n",
       "            color:  red;\n",
       "            text-align:  left;\n",
       "        }    #T_20a1dfa6_6b5c_11e9_8f0f_9801a7a832ddrow0_col2 {\n",
       "            color:  red;\n",
       "            text-align:  left;\n",
       "        }    #T_20a1dfa6_6b5c_11e9_8f0f_9801a7a832ddrow1_col0 {\n",
       "            color:  black;\n",
       "            text-align:  left;\n",
       "        }    #T_20a1dfa6_6b5c_11e9_8f0f_9801a7a832ddrow1_col1 {\n",
       "            color:  red;\n",
       "            text-align:  left;\n",
       "        }    #T_20a1dfa6_6b5c_11e9_8f0f_9801a7a832ddrow1_col2 {\n",
       "            color:  red;\n",
       "            text-align:  left;\n",
       "        }    #T_20a1dfa6_6b5c_11e9_8f0f_9801a7a832ddrow2_col0 {\n",
       "            color:  black;\n",
       "            text-align:  left;\n",
       "        }    #T_20a1dfa6_6b5c_11e9_8f0f_9801a7a832ddrow2_col1 {\n",
       "            color:  red;\n",
       "            text-align:  left;\n",
       "        }    #T_20a1dfa6_6b5c_11e9_8f0f_9801a7a832ddrow2_col2 {\n",
       "            color:  red;\n",
       "            text-align:  left;\n",
       "        }    #T_20a1dfa6_6b5c_11e9_8f0f_9801a7a832ddrow3_col0 {\n",
       "            color:  black;\n",
       "            text-align:  left;\n",
       "        }    #T_20a1dfa6_6b5c_11e9_8f0f_9801a7a832ddrow3_col1 {\n",
       "            color:  green;\n",
       "            text-align:  left;\n",
       "        }    #T_20a1dfa6_6b5c_11e9_8f0f_9801a7a832ddrow3_col2 {\n",
       "            color:  green;\n",
       "            text-align:  left;\n",
       "        }    #T_20a1dfa6_6b5c_11e9_8f0f_9801a7a832ddrow4_col0 {\n",
       "            color:  black;\n",
       "            text-align:  left;\n",
       "        }    #T_20a1dfa6_6b5c_11e9_8f0f_9801a7a832ddrow4_col1 {\n",
       "            color:  red;\n",
       "            text-align:  left;\n",
       "        }    #T_20a1dfa6_6b5c_11e9_8f0f_9801a7a832ddrow4_col2 {\n",
       "            color:  red;\n",
       "            text-align:  left;\n",
       "        }</style>  \n",
       "<table id=\"T_20a1dfa6_6b5c_11e9_8f0f_9801a7a832dd\" > \n",
       "<thead>    <tr> \n",
       "        <th class=\"blank level0\" ></th> \n",
       "        <th class=\"col_heading level0 col0\" >Content</th> \n",
       "        <th class=\"col_heading level0 col1\" >True sentiment</th> \n",
       "        <th class=\"col_heading level0 col2\" >Predicted sentiment</th> \n",
       "    </tr></thead> \n",
       "<tbody>    <tr> \n",
       "        <th id=\"T_20a1dfa6_6b5c_11e9_8f0f_9801a7a832ddlevel0_row0\" class=\"row_heading level0 row0\" >0</th> \n",
       "        <td id=\"T_20a1dfa6_6b5c_11e9_8f0f_9801a7a832ddrow0_col0\" class=\"data row0 col0\" >great book perfect condition arrived short amount time long expected delivery date</td> \n",
       "        <td id=\"T_20a1dfa6_6b5c_11e9_8f0f_9801a7a832ddrow0_col1\" class=\"data row0 col1\" >positive</td> \n",
       "        <td id=\"T_20a1dfa6_6b5c_11e9_8f0f_9801a7a832ddrow0_col2\" class=\"data row0 col2\" >positive</td> \n",
       "    </tr>    <tr> \n",
       "        <th id=\"T_20a1dfa6_6b5c_11e9_8f0f_9801a7a832ddlevel0_row1\" class=\"row_heading level0 row1\" >1</th> \n",
       "        <td id=\"T_20a1dfa6_6b5c_11e9_8f0f_9801a7a832ddrow1_col0\" class=\"data row1 col0\" >amazing little popularity diamond pet foods seems considering quality ingredients foods contain worked pet store four years number one recommendations foods natural balance wellness two exceptional foods pretty expensive owners multiple dogs even one large breed dog brands cripple budget would get customers absolutely loved pets wanted able feed healthy food without breaking banks recommended diamond diamond dog food costs commercial brands like purina iams contains natural healthy ingredients remember less garbage feed dog products fillers less dog uses bathroom stay fuller longer</td> \n",
       "        <td id=\"T_20a1dfa6_6b5c_11e9_8f0f_9801a7a832ddrow1_col1\" class=\"data row1 col1\" >positive</td> \n",
       "        <td id=\"T_20a1dfa6_6b5c_11e9_8f0f_9801a7a832ddrow1_col2\" class=\"data row1 col2\" >positive</td> \n",
       "    </tr>    <tr> \n",
       "        <th id=\"T_20a1dfa6_6b5c_11e9_8f0f_9801a7a832ddlevel0_row2\" class=\"row_heading level0 row2\" >2</th> \n",
       "        <td id=\"T_20a1dfa6_6b5c_11e9_8f0f_9801a7a832ddrow2_col0\" class=\"data row2 col0\" >author wrote wild things carol king wrote great song matches lyrics illustrations fabulous wish could buy hardbound larger tiny book easily misplaced year old carries everywhere</td> \n",
       "        <td id=\"T_20a1dfa6_6b5c_11e9_8f0f_9801a7a832ddrow2_col1\" class=\"data row2 col1\" >positive</td> \n",
       "        <td id=\"T_20a1dfa6_6b5c_11e9_8f0f_9801a7a832ddrow2_col2\" class=\"data row2 col2\" >positive</td> \n",
       "    </tr>    <tr> \n",
       "        <th id=\"T_20a1dfa6_6b5c_11e9_8f0f_9801a7a832ddlevel0_row3\" class=\"row_heading level0 row3\" >3</th> \n",
       "        <td id=\"T_20a1dfa6_6b5c_11e9_8f0f_9801a7a832ddrow3_col0\" class=\"data row3 col0\" >purchased medication wellbutrin completely stopped everything pretty drastically despite situation still experienced alot cramping greater part next day drinking tea bed something not think would happen chamomile etc tea suppose worked uncomfortable probably use situation free day home course would not recommend someone mild issues</td> \n",
       "        <td id=\"T_20a1dfa6_6b5c_11e9_8f0f_9801a7a832ddrow3_col1\" class=\"data row3 col1\" >negative</td> \n",
       "        <td id=\"T_20a1dfa6_6b5c_11e9_8f0f_9801a7a832ddrow3_col2\" class=\"data row3 col2\" >negative</td> \n",
       "    </tr>    <tr> \n",
       "        <th id=\"T_20a1dfa6_6b5c_11e9_8f0f_9801a7a832ddlevel0_row4\" class=\"row_heading level0 row4\" >4</th> \n",
       "        <td id=\"T_20a1dfa6_6b5c_11e9_8f0f_9801a7a832ddrow4_col0\" class=\"data row4 col0\" >vine offered conditioner looking replace brand fine fragile medium length hair dye permanent dye every two months never use blow dryer would dry hair much still problems breakage trying find conditioner need leaves hair soft smooth tangle free almost not comb washing neither thick thin greasy nor watery easy apply rub little bit rinse two minutes fruity scent rather strong pleasant fade little soon application not know reviewers say conditioner salon price city live conditioner drugstore price</td> \n",
       "        <td id=\"T_20a1dfa6_6b5c_11e9_8f0f_9801a7a832ddrow4_col1\" class=\"data row4 col1\" >positive</td> \n",
       "        <td id=\"T_20a1dfa6_6b5c_11e9_8f0f_9801a7a832ddrow4_col2\" class=\"data row4 col2\" >positive</td> \n",
       "    </tr></tbody> \n",
       "</table> "
      ],
      "text/plain": [
       "<IPython.core.display.HTML object>"
      ]
     },
     "metadata": {},
     "output_type": "display_data"
    }
   ],
   "source": [
    "# Compare true labels and predicted labels in a table\n",
    "lib.show_predictions(predictions)"
   ]
  },
  {
   "cell_type": "markdown",
   "metadata": {},
   "source": [
    "### F1 score"
   ]
  },
  {
   "cell_type": "code",
   "execution_count": 7,
   "metadata": {},
   "outputs": [
    {
     "name": "stdout",
     "output_type": "stream",
     "text": [
      "positive\n",
      "Precision:  90.01181884477079\n",
      "Recall:  91.95180846691328\n",
      "F1:  90.97147213927187\n",
      "\n",
      "negative\n",
      "Precision:  76.85260435906908\n",
      "Recall:  72.36677334075414\n",
      "F1:  74.5422623526461\n",
      "\n",
      "Average F1:  82.75686724595899\n"
     ]
    }
   ],
   "source": [
    "# Get average F1 score for the test set\n",
    "lib.evaluate(predictions)"
   ]
  },
  {
   "cell_type": "code",
   "execution_count": 8,
   "metadata": {},
   "outputs": [
    {
     "name": "stdout",
     "output_type": "stream",
     "text": [
      "positive\n",
      "Precision:  99.84717269485482\n",
      "Recall:  99.62745867622363\n",
      "F1:  99.7371946820571\n",
      "\n",
      "negative\n",
      "Precision:  99.00392237819983\n",
      "Recall:  99.58986605752258\n",
      "F1:  99.29602981520783\n",
      "\n",
      "Average F1:  99.51661224863247\n"
     ]
    }
   ],
   "source": [
    "# Get average F1 score for the TRAINING set.\n",
    "# Compare with average F1 for test set above. What's the reason for the difference?\n",
    "\n",
    "trainset_predictions = [(review, lib.classify_nb(review, prior_probs, token_probs)) for review in reviews] # maps each training tweet to its predicted label\n",
    "lib.evaluate(trainset_predictions)"
   ]
  },
  {
   "cell_type": "markdown",
   "metadata": {},
   "source": [
    "### Confusion matrix"
   ]
  },
  {
   "cell_type": "code",
   "execution_count": 9,
   "metadata": {},
   "outputs": [
    {
     "data": {
      "text/html": [
       "<table border=\"1\" class=\"dataframe\">\n",
       "  <thead>\n",
       "    <tr style=\"text-align: right;\">\n",
       "      <th></th>\n",
       "      <th>positive</th>\n",
       "      <th>negative</th>\n",
       "    </tr>\n",
       "  </thead>\n",
       "  <tbody>\n",
       "    <tr>\n",
       "      <th>positive</th>\n",
       "      <td>35795</td>\n",
       "      <td>3133</td>\n",
       "    </tr>\n",
       "    <tr>\n",
       "      <th>negative</th>\n",
       "      <td>3972</td>\n",
       "      <td>10402</td>\n",
       "    </tr>\n",
       "  </tbody>\n",
       "</table>"
      ],
      "text/plain": [
       "<IPython.core.display.HTML object>"
      ]
     },
     "metadata": {},
     "output_type": "display_data"
    }
   ],
   "source": [
    "lib.show_confusion_matrix(predictions)"
   ]
  },
  {
   "cell_type": "markdown",
   "metadata": {},
   "source": [
    "### Visualizing individual tweets"
   ]
  },
  {
   "cell_type": "code",
   "execution_count": 10,
   "metadata": {},
   "outputs": [
    {
     "data": {
      "text/html": [
       "\n",
       "    <div id=\"viz-overlay\" style=\"display:none;position:absolute;width:250px;height:110px;border: 1px solid #000; padding:8px;  background: #eee;\">\n",
       "\t<p>\n",
       "       <span style=\"color:red;\">P(<span class=\"viz-token-placeholder\"></span> | positive) = <span id=\"viz-p-positive\"></span></span><br>\n",
       "\t   <span style=\"color:green;\">P(<span class=\"viz-token-placeholder\"></span> | negative) = <span id=\"viz-p-negative\"></span><br>      \n",
       "    </p>\n",
       "    </div>\n",
       "\n",
       "    <div id=\"viz-review\" style=\"padding: 190px 0 0;\">\n",
       "    <span style=\"color: red\" class=\"viz-token\" data-positive=\"0.002632\" data-negative=\"0.002475\">raisin</span> <span style=\"color: red\" class=\"viz-token\" data-positive=\"0.002361\" data-negative=\"0.002129\">bran</span> <span style=\"color: green\" class=\"viz-token\" data-positive=\"0.208996\" data-negative=\"0.241045\">one</span> <span style=\"color: green\" class=\"viz-token\" data-positive=\"0.004742\" data-negative=\"0.005122\">cereals</span> <span style=\"color: green\" class=\"viz-token\" data-positive=\"0.071021\" data-negative=\"0.071298\">since</span> <span style=\"color: red\" class=\"viz-token\" data-positive=\"0.003159\" data-negative=\"0.001904\">childhood</span> <span style=\"color: green\" class=\"viz-token\" data-positive=\"0.062032\" data-negative=\"0.074707\">never</span> <span style=\"color: green\" class=\"viz-token\" data-positive=\"0.073878\" data-negative=\"0.093344\">made</span> <span style=\"color: green\" class=\"viz-token\" data-positive=\"0.125937\" data-negative=\"0.154813\">much</span> <span style=\"color: green\" class=\"viz-token\" data-positive=\"0.000688\" data-negative=\"0.004465\">impression</span> <span style=\"color: red\" class=\"viz-token\" data-positive=\"0.253367\" data-negative=\"0.246236\">good</span> <span style=\"color: red\" class=\"viz-token\" data-positive=\"0.009445\" data-negative=\"0.004015\">satisfying</span> <span style=\"color: red\" class=\"viz-token\" data-positive=\"0.128183\" data-negative=\"0.114093\">also</span> <span style=\"color: green\" class=\"viz-token\" data-positive=\"0.031225\" data-negative=\"0.052816\">pretty</span> <span style=\"color: green\" class=\"viz-token\" data-positive=\"0.001589\" data-negative=\"0.002250\">boring</span> <span style=\"color: green\" class=\"viz-token\" data-positive=\"0.037473\" data-negative=\"0.045357\">new</span> <span style=\"color: green\" class=\"viz-token\" data-positive=\"0.013190\" data-negative=\"0.019693\">version</span> <span style=\"color: red\" class=\"viz-token\" data-positive=\"0.009072\" data-negative=\"0.003426\">adds</span> <span style=\"color: green\" class=\"viz-token\" data-positive=\"0.013435\" data-negative=\"0.028796\">says</span> <span style=\"color: green\" class=\"viz-token\" data-positive=\"0.010378\" data-negative=\"0.017184\">name</span> <span style=\"color: red\" class=\"viz-token\" data-positive=\"0.013718\" data-negative=\"0.013550\">cinnamon</span> <span style=\"color: red\" class=\"viz-token\" data-positive=\"0.006344\" data-negative=\"0.006074\">almonds</span> <span style=\"color: green\" class=\"viz-token\" data-positive=\"0.030807\" data-negative=\"0.036289\">amount</span> <span style=\"color: red\" class=\"viz-token\" data-positive=\"0.013718\" data-negative=\"0.013550\">cinnamon</span> <span style=\"color: red\" class=\"viz-token\" data-positive=\"0.059375\" data-negative=\"0.046897\">right</span> <span style=\"color: green\" class=\"viz-token\" data-positive=\"0.055965\" data-negative=\"0.075780\">give</span> <span style=\"color: red\" class=\"viz-token\" data-positive=\"0.021053\" data-negative=\"0.019434\">cereal</span> <span style=\"color: green\" class=\"viz-token\" data-positive=\"0.004266\" data-negative=\"0.006593\">interesting</span> <span style=\"color: red\" class=\"viz-token\" data-positive=\"0.091784\" data-negative=\"0.020887\">delicious</span> <span style=\"color: green\" class=\"viz-token\" data-positive=\"0.171073\" data-negative=\"0.197314\">flavor</span> <span style=\"color: green\" class=\"viz-token\" data-positive=\"0.082512\" data-negative=\"0.116083\">first</span> <span style=\"color: green\" class=\"viz-token\" data-positive=\"0.012038\" data-negative=\"0.017409\">bite</span> <span style=\"color: green\" class=\"viz-token\" data-positive=\"0.030601\" data-negative=\"0.091129\">thought</span> <span style=\"color: red\" class=\"viz-token\" data-positive=\"0.091784\" data-negative=\"0.020887\">delicious</span> <span style=\"color: green\" class=\"viz-token\" data-positive=\"0.062032\" data-negative=\"0.074707\">never</span> <span style=\"color: green\" class=\"viz-token\" data-positive=\"0.013061\" data-negative=\"0.014917\">done</span> <span style=\"color: green\" class=\"viz-token\" data-positive=\"0.010333\" data-negative=\"0.019416\">original</span> <span style=\"color: red\" class=\"viz-token\" data-positive=\"0.003076\" data-negative=\"0.002752\">rarely</span> <span style=\"color: red\" class=\"viz-token\" data-positive=\"0.021053\" data-negative=\"0.019434\">cereal</span> <span style=\"color: green\" class=\"viz-token\" data-positive=\"0.004839\" data-negative=\"0.007632\">general</span> <span style=\"color: red\" class=\"viz-token\" data-positive=\"0.006344\" data-negative=\"0.006074\">almonds</span> <span style=\"color: green\" class=\"viz-token\" data-positive=\"0.000077\" data-negative=\"0.000329\">politely</span> <span style=\"color: green\" class=\"viz-token\" data-positive=\"0.002960\" data-negative=\"0.003184\">play</span> <span style=\"color: red\" class=\"viz-token\" data-positive=\"0.001461\" data-negative=\"0.001419\">minor</span> <span style=\"color: red\" class=\"viz-token\" data-positive=\"0.000386\" data-negative=\"0.000156\">role</span> <span style=\"color: green\" class=\"viz-token\" data-positive=\"0.000006\" data-negative=\"0.000035\">elevating</span> <span style=\"color: green\" class=\"viz-token\" data-positive=\"0.171073\" data-negative=\"0.197314\">flavor</span> <span style=\"color: green\" class=\"viz-token\" data-positive=\"0.055791\" data-negative=\"0.065604\">bit</span> <span style=\"color: green\" class=\"viz-token\" data-positive=\"0.487984\" data-negative=\"0.760357\">not</span> <span style=\"color: green\" class=\"viz-token\" data-positive=\"0.032120\" data-negative=\"0.037431\">getting</span> <span style=\"color: green\" class=\"viz-token\" data-positive=\"0.071606\" data-negative=\"0.090437\">way</span> <span style=\"color: green\" class=\"viz-token\" data-positive=\"0.487984\" data-negative=\"0.760357\">not</span> <span style=\"color: red\" class=\"viz-token\" data-positive=\"0.021053\" data-negative=\"0.019434\">cereal</span> <span style=\"color: red\" class=\"viz-token\" data-positive=\"0.112251\" data-negative=\"0.098640\">make</span> <span style=\"color: green\" class=\"viz-token\" data-positive=\"0.034282\" data-negative=\"0.035787\">feel</span> <span style=\"color: green\" class=\"viz-token\" data-positive=\"0.264414\" data-negative=\"0.363929\">like</span> <span style=\"color: red\" class=\"viz-token\" data-positive=\"0.044615\" data-negative=\"0.043869\">eating</span> <span style=\"color: red\" class=\"viz-token\" data-positive=\"0.005791\" data-negative=\"0.004603\">spoon</span> <span style=\"color: red\" class=\"viz-token\" data-positive=\"0.000090\" data-negative=\"0.000052\">slivered</span> <span style=\"color: red\" class=\"viz-token\" data-positive=\"0.006344\" data-negative=\"0.006074\">almonds</span> <span style=\"color: green\" class=\"viz-token\" data-positive=\"0.162625\" data-negative=\"0.314003\">would</span> <span style=\"color: red\" class=\"viz-token\" data-positive=\"0.080338\" data-negative=\"0.050652\">recommend</span> <span style=\"color: red\" class=\"viz-token\" data-positive=\"0.021053\" data-negative=\"0.019434\">cereal</span> <span style=\"color: green\" class=\"viz-token\" data-positive=\"0.033651\" data-negative=\"0.049337\">people</span> <span style=\"color: green\" class=\"viz-token\" data-positive=\"0.003198\" data-negative=\"0.006368\">interested</span> <span style=\"color: red\" class=\"viz-token\" data-positive=\"0.009040\" data-negative=\"0.006299\">fun</span> <span style=\"color: green\" class=\"viz-token\" data-positive=\"0.037473\" data-negative=\"0.045357\">new</span> <span style=\"color: red\" class=\"viz-token\" data-positive=\"0.021053\" data-negative=\"0.019434\">cereal</span> <span style=\"color: green\" class=\"viz-token\" data-positive=\"0.086933\" data-negative=\"0.088672\">eat</span> <span style=\"color: red\" class=\"viz-token\" data-positive=\"0.002632\" data-negative=\"0.002475\">raisin</span> <span style=\"color: red\" class=\"viz-token\" data-positive=\"0.002361\" data-negative=\"0.002129\">bran</span> <span style=\"color: red\" class=\"viz-token\" data-positive=\"0.026818\" data-negative=\"0.023068\">health</span> <span style=\"color: green\" class=\"viz-token\" data-positive=\"0.003391\" data-negative=\"0.004274\">reasons</span> <span style=\"color: green\" class=\"viz-token\" data-positive=\"0.005199\" data-negative=\"0.006161\">fall</span> <span style=\"color: red\" class=\"viz-token\" data-positive=\"0.000894\" data-negative=\"0.000588\">asleep</span> <span style=\"color: green\" class=\"viz-token\" data-positive=\"0.000881\" data-negative=\"0.001142\">shortly</span> <span style=\"color: red\" class=\"viz-token\" data-positive=\"0.000077\" data-negative=\"0.000069\">afterwords</span> <span style=\"color: green\" class=\"viz-token\" data-positive=\"0.000476\" data-negative=\"0.000536\">kicks</span> <span style=\"color: red\" class=\"viz-token\" data-positive=\"0.000142\" data-negative=\"0.000087\">notches</span> <span style=\"color: red\" class=\"viz-token\" data-positive=\"0.059375\" data-negative=\"0.046897\">right</span> <span style=\"color: red\" class=\"viz-token\" data-positive=\"0.005463\" data-negative=\"0.004759\">ways</span> <span style=\"color: green\" class=\"viz-token\" data-positive=\"0.036688\" data-negative=\"0.039300\">tasting</span> <span style=\"color: green\" class=\"viz-token\" data-positive=\"0.264414\" data-negative=\"0.363929\">like</span> <span style=\"color: red\" class=\"viz-token\" data-positive=\"0.065237\" data-negative=\"0.033970\">always</span> <span style=\"color: green\" class=\"viz-token\" data-positive=\"0.002110\" data-negative=\"0.004845\">meant</span> <p><strong>Predicted sentiment: </strong> <span style=\"color: red\"> positive</span><br><strong>True sentiment: </strong> <span style=\"color: red\"> positive</span></p>\n",
       "    </div>\n",
       "     <script type=\"text/javascript\">\n",
       "\t$(document).ready(function() {\n",
       "\t\t$(\"span.viz-token\").mouseover(function() {\n",
       "\t\t\t$(\"span.viz-token\").css({\"font-weight\": \"normal\"});\n",
       "\t\t\t$(this).css({\"font-weight\": \"bold\"});\n",
       "\t\t\t$(\"span.viz-token-placeholder\").text($(this).text());\n",
       "\t\t\t$(\"#viz-p-positive\").text($(this).data(\"positive\"));\n",
       "\t\t\t$(\"#viz-p-negative\").text($(this).data(\"negative\"));\n",
       "\t\t\t$(\"#viz-overlay\").show();\n",
       "\t\t\t$(\"#viz-overlay\").offset({left:$(this).offset().left-110+$(this).width()/2, top:$(this).offset().top - 140});\n",
       "\t\t});\n",
       "\t});\n",
       "    </script>\n",
       "\n",
       "    "
      ],
      "text/plain": [
       "<IPython.core.display.HTML object>"
      ]
     },
     "metadata": {},
     "output_type": "display_data"
    }
   ],
   "source": [
    "random_review = random.choice(list(test_reviews))\n",
    "lib.visualize_review(random_review, prior_probs, token_probs)"
   ]
  }
 ],
 "metadata": {
  "kernelspec": {
   "display_name": "Python 3",
   "language": "python",
   "name": "python3"
  },
  "language_info": {
   "codemirror_mode": {
    "name": "ipython",
    "version": 3
   },
   "file_extension": ".py",
   "mimetype": "text/x-python",
   "name": "python",
   "nbconvert_exporter": "python",
   "pygments_lexer": "ipython3",
   "version": "3.7.2"
  }
 },
 "nbformat": 4,
 "nbformat_minor": 2
}
